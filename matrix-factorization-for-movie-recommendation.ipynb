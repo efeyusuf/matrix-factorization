{
  "nbformat": 4,
  "nbformat_minor": 0,
  "metadata": {
    "colab": {
      "provenance": []
    },
    "kernelspec": {
      "name": "python3",
      "display_name": "Python 3"
    },
    "language_info": {
      "name": "python"
    }
  },
  "cells": [
    {
      "cell_type": "code",
      "source": [
        "pip install matrix_factorization"
      ],
      "metadata": {
        "id": "iwu5doYJPw-e",
        "colab": {
          "base_uri": "https://localhost:8080/"
        },
        "outputId": "aaa1d067-3423-4c7e-d3a9-62e3435ef989"
      },
      "execution_count": 76,
      "outputs": [
        {
          "output_type": "stream",
          "name": "stdout",
          "text": [
            "Looking in indexes: https://pypi.org/simple, https://us-python.pkg.dev/colab-wheels/public/simple/\n",
            "Requirement already satisfied: matrix_factorization in /usr/local/lib/python3.7/dist-packages (1.3)\n",
            "Requirement already satisfied: numba>=0.49.1 in /usr/local/lib/python3.7/dist-packages (from matrix_factorization) (0.56.4)\n",
            "Requirement already satisfied: scikit-learn>=0.23.1 in /usr/local/lib/python3.7/dist-packages (from matrix_factorization) (1.0.2)\n",
            "Requirement already satisfied: numpy>=1.18.5 in /usr/local/lib/python3.7/dist-packages (from matrix_factorization) (1.21.6)\n",
            "Requirement already satisfied: pandas>=1.0.4 in /usr/local/lib/python3.7/dist-packages (from matrix_factorization) (1.3.5)\n",
            "Requirement already satisfied: scipy>=1.4.1 in /usr/local/lib/python3.7/dist-packages (from matrix_factorization) (1.7.3)\n",
            "Requirement already satisfied: llvmlite<0.40,>=0.39.0dev0 in /usr/local/lib/python3.7/dist-packages (from numba>=0.49.1->matrix_factorization) (0.39.1)\n",
            "Requirement already satisfied: importlib-metadata in /usr/local/lib/python3.7/dist-packages (from numba>=0.49.1->matrix_factorization) (4.13.0)\n",
            "Requirement already satisfied: setuptools in /usr/local/lib/python3.7/dist-packages (from numba>=0.49.1->matrix_factorization) (57.4.0)\n",
            "Requirement already satisfied: python-dateutil>=2.7.3 in /usr/local/lib/python3.7/dist-packages (from pandas>=1.0.4->matrix_factorization) (2.8.2)\n",
            "Requirement already satisfied: pytz>=2017.3 in /usr/local/lib/python3.7/dist-packages (from pandas>=1.0.4->matrix_factorization) (2022.6)\n",
            "Requirement already satisfied: six>=1.5 in /usr/local/lib/python3.7/dist-packages (from python-dateutil>=2.7.3->pandas>=1.0.4->matrix_factorization) (1.15.0)\n",
            "Requirement already satisfied: threadpoolctl>=2.0.0 in /usr/local/lib/python3.7/dist-packages (from scikit-learn>=0.23.1->matrix_factorization) (3.1.0)\n",
            "Requirement already satisfied: joblib>=0.11 in /usr/local/lib/python3.7/dist-packages (from scikit-learn>=0.23.1->matrix_factorization) (1.2.0)\n",
            "Requirement already satisfied: zipp>=0.5 in /usr/local/lib/python3.7/dist-packages (from importlib-metadata->numba>=0.49.1->matrix_factorization) (3.10.0)\n",
            "Requirement already satisfied: typing-extensions>=3.6.4 in /usr/local/lib/python3.7/dist-packages (from importlib-metadata->numba>=0.49.1->matrix_factorization) (4.1.1)\n"
          ]
        }
      ]
    },
    {
      "cell_type": "code",
      "execution_count": 77,
      "metadata": {
        "id": "EBIxOfSPPbLq"
      },
      "outputs": [],
      "source": [
        "#importing the MF library\n",
        "from matrix_factorization import BaselineModel, KernelMF, train_update_test_split\n",
        "\n",
        "#importing essential libraries\n",
        "import pandas as pd\n",
        "import numpy as np\n",
        "import matplotlib.pyplot as plt\n",
        "from sklearn.metrics import mean_squared_error as mse\n",
        "\n",
        "#Using the movie data from movielens. I used the dataset with minimum size for computational\n",
        "cols = [\"user_id\", \"item_id\", \"rating\", \"timestamp\"]\n",
        "movie_data = pd.read_csv(\n",
        "    \"/content/ratings.csv\", names=cols, usecols=[0, 1, 2], engine=\"python\"\n",
        ")\n",
        "movie_data = movie_data.iloc[1:,:]\n",
        "movie_data = movie_data.astype(float)"
      ]
    },
    {
      "cell_type": "code",
      "source": [
        "from collections import Counter\n",
        "movies_list = list(movie_data['item_id'])\n",
        "distinct_movie_count = len(Counter(movies_list).keys()) #9724 distinct movies, 610 users"
      ],
      "metadata": {
        "id": "HwBUGqUAX3M7"
      },
      "execution_count": 78,
      "outputs": []
    },
    {
      "cell_type": "code",
      "source": [
        "#Now, let us analyze the data in matrix format:\n",
        "df_matrix = movie_data.pivot(index = 'user_id', columns ='item_id', values = 'rating')\n",
        "df_matrix"
      ],
      "metadata": {
        "colab": {
          "base_uri": "https://localhost:8080/",
          "height": 519
        },
        "id": "9yFl3I-gYcAx",
        "outputId": "838b3b32-e3ce-41db-c232-9c1667f17519"
      },
      "execution_count": 79,
      "outputs": [
        {
          "output_type": "execute_result",
          "data": {
            "text/plain": [
              "item_id  1.0       2.0       3.0       4.0       5.0       6.0       7.0       \\\n",
              "user_id                                                                         \n",
              "1.0           4.0       NaN       4.0       NaN       NaN       4.0       NaN   \n",
              "2.0           NaN       NaN       NaN       NaN       NaN       NaN       NaN   \n",
              "3.0           NaN       NaN       NaN       NaN       NaN       NaN       NaN   \n",
              "4.0           NaN       NaN       NaN       NaN       NaN       NaN       NaN   \n",
              "5.0           4.0       NaN       NaN       NaN       NaN       NaN       NaN   \n",
              "...           ...       ...       ...       ...       ...       ...       ...   \n",
              "606.0         2.5       NaN       NaN       NaN       NaN       NaN       2.5   \n",
              "607.0         4.0       NaN       NaN       NaN       NaN       NaN       NaN   \n",
              "608.0         2.5       2.0       2.0       NaN       NaN       NaN       NaN   \n",
              "609.0         3.0       NaN       NaN       NaN       NaN       NaN       NaN   \n",
              "610.0         5.0       NaN       NaN       NaN       NaN       5.0       NaN   \n",
              "\n",
              "item_id  8.0       9.0       10.0      ...  193565.0  193567.0  193571.0  \\\n",
              "user_id                                ...                                 \n",
              "1.0           NaN       NaN       NaN  ...       NaN       NaN       NaN   \n",
              "2.0           NaN       NaN       NaN  ...       NaN       NaN       NaN   \n",
              "3.0           NaN       NaN       NaN  ...       NaN       NaN       NaN   \n",
              "4.0           NaN       NaN       NaN  ...       NaN       NaN       NaN   \n",
              "5.0           NaN       NaN       NaN  ...       NaN       NaN       NaN   \n",
              "...           ...       ...       ...  ...       ...       ...       ...   \n",
              "606.0         NaN       NaN       NaN  ...       NaN       NaN       NaN   \n",
              "607.0         NaN       NaN       NaN  ...       NaN       NaN       NaN   \n",
              "608.0         NaN       NaN       4.0  ...       NaN       NaN       NaN   \n",
              "609.0         NaN       NaN       4.0  ...       NaN       NaN       NaN   \n",
              "610.0         NaN       NaN       NaN  ...       NaN       NaN       NaN   \n",
              "\n",
              "item_id  193573.0  193579.0  193581.0  193583.0  193585.0  193587.0  193609.0  \n",
              "user_id                                                                        \n",
              "1.0           NaN       NaN       NaN       NaN       NaN       NaN       NaN  \n",
              "2.0           NaN       NaN       NaN       NaN       NaN       NaN       NaN  \n",
              "3.0           NaN       NaN       NaN       NaN       NaN       NaN       NaN  \n",
              "4.0           NaN       NaN       NaN       NaN       NaN       NaN       NaN  \n",
              "5.0           NaN       NaN       NaN       NaN       NaN       NaN       NaN  \n",
              "...           ...       ...       ...       ...       ...       ...       ...  \n",
              "606.0         NaN       NaN       NaN       NaN       NaN       NaN       NaN  \n",
              "607.0         NaN       NaN       NaN       NaN       NaN       NaN       NaN  \n",
              "608.0         NaN       NaN       NaN       NaN       NaN       NaN       NaN  \n",
              "609.0         NaN       NaN       NaN       NaN       NaN       NaN       NaN  \n",
              "610.0         NaN       NaN       NaN       NaN       NaN       NaN       NaN  \n",
              "\n",
              "[610 rows x 9724 columns]"
            ],
            "text/html": [
              "\n",
              "  <div id=\"df-f8d70ce6-87cb-49b1-9cf4-0483f321a508\">\n",
              "    <div class=\"colab-df-container\">\n",
              "      <div>\n",
              "<style scoped>\n",
              "    .dataframe tbody tr th:only-of-type {\n",
              "        vertical-align: middle;\n",
              "    }\n",
              "\n",
              "    .dataframe tbody tr th {\n",
              "        vertical-align: top;\n",
              "    }\n",
              "\n",
              "    .dataframe thead th {\n",
              "        text-align: right;\n",
              "    }\n",
              "</style>\n",
              "<table border=\"1\" class=\"dataframe\">\n",
              "  <thead>\n",
              "    <tr style=\"text-align: right;\">\n",
              "      <th>item_id</th>\n",
              "      <th>1.0</th>\n",
              "      <th>2.0</th>\n",
              "      <th>3.0</th>\n",
              "      <th>4.0</th>\n",
              "      <th>5.0</th>\n",
              "      <th>6.0</th>\n",
              "      <th>7.0</th>\n",
              "      <th>8.0</th>\n",
              "      <th>9.0</th>\n",
              "      <th>10.0</th>\n",
              "      <th>...</th>\n",
              "      <th>193565.0</th>\n",
              "      <th>193567.0</th>\n",
              "      <th>193571.0</th>\n",
              "      <th>193573.0</th>\n",
              "      <th>193579.0</th>\n",
              "      <th>193581.0</th>\n",
              "      <th>193583.0</th>\n",
              "      <th>193585.0</th>\n",
              "      <th>193587.0</th>\n",
              "      <th>193609.0</th>\n",
              "    </tr>\n",
              "    <tr>\n",
              "      <th>user_id</th>\n",
              "      <th></th>\n",
              "      <th></th>\n",
              "      <th></th>\n",
              "      <th></th>\n",
              "      <th></th>\n",
              "      <th></th>\n",
              "      <th></th>\n",
              "      <th></th>\n",
              "      <th></th>\n",
              "      <th></th>\n",
              "      <th></th>\n",
              "      <th></th>\n",
              "      <th></th>\n",
              "      <th></th>\n",
              "      <th></th>\n",
              "      <th></th>\n",
              "      <th></th>\n",
              "      <th></th>\n",
              "      <th></th>\n",
              "      <th></th>\n",
              "      <th></th>\n",
              "    </tr>\n",
              "  </thead>\n",
              "  <tbody>\n",
              "    <tr>\n",
              "      <th>1.0</th>\n",
              "      <td>4.0</td>\n",
              "      <td>NaN</td>\n",
              "      <td>4.0</td>\n",
              "      <td>NaN</td>\n",
              "      <td>NaN</td>\n",
              "      <td>4.0</td>\n",
              "      <td>NaN</td>\n",
              "      <td>NaN</td>\n",
              "      <td>NaN</td>\n",
              "      <td>NaN</td>\n",
              "      <td>...</td>\n",
              "      <td>NaN</td>\n",
              "      <td>NaN</td>\n",
              "      <td>NaN</td>\n",
              "      <td>NaN</td>\n",
              "      <td>NaN</td>\n",
              "      <td>NaN</td>\n",
              "      <td>NaN</td>\n",
              "      <td>NaN</td>\n",
              "      <td>NaN</td>\n",
              "      <td>NaN</td>\n",
              "    </tr>\n",
              "    <tr>\n",
              "      <th>2.0</th>\n",
              "      <td>NaN</td>\n",
              "      <td>NaN</td>\n",
              "      <td>NaN</td>\n",
              "      <td>NaN</td>\n",
              "      <td>NaN</td>\n",
              "      <td>NaN</td>\n",
              "      <td>NaN</td>\n",
              "      <td>NaN</td>\n",
              "      <td>NaN</td>\n",
              "      <td>NaN</td>\n",
              "      <td>...</td>\n",
              "      <td>NaN</td>\n",
              "      <td>NaN</td>\n",
              "      <td>NaN</td>\n",
              "      <td>NaN</td>\n",
              "      <td>NaN</td>\n",
              "      <td>NaN</td>\n",
              "      <td>NaN</td>\n",
              "      <td>NaN</td>\n",
              "      <td>NaN</td>\n",
              "      <td>NaN</td>\n",
              "    </tr>\n",
              "    <tr>\n",
              "      <th>3.0</th>\n",
              "      <td>NaN</td>\n",
              "      <td>NaN</td>\n",
              "      <td>NaN</td>\n",
              "      <td>NaN</td>\n",
              "      <td>NaN</td>\n",
              "      <td>NaN</td>\n",
              "      <td>NaN</td>\n",
              "      <td>NaN</td>\n",
              "      <td>NaN</td>\n",
              "      <td>NaN</td>\n",
              "      <td>...</td>\n",
              "      <td>NaN</td>\n",
              "      <td>NaN</td>\n",
              "      <td>NaN</td>\n",
              "      <td>NaN</td>\n",
              "      <td>NaN</td>\n",
              "      <td>NaN</td>\n",
              "      <td>NaN</td>\n",
              "      <td>NaN</td>\n",
              "      <td>NaN</td>\n",
              "      <td>NaN</td>\n",
              "    </tr>\n",
              "    <tr>\n",
              "      <th>4.0</th>\n",
              "      <td>NaN</td>\n",
              "      <td>NaN</td>\n",
              "      <td>NaN</td>\n",
              "      <td>NaN</td>\n",
              "      <td>NaN</td>\n",
              "      <td>NaN</td>\n",
              "      <td>NaN</td>\n",
              "      <td>NaN</td>\n",
              "      <td>NaN</td>\n",
              "      <td>NaN</td>\n",
              "      <td>...</td>\n",
              "      <td>NaN</td>\n",
              "      <td>NaN</td>\n",
              "      <td>NaN</td>\n",
              "      <td>NaN</td>\n",
              "      <td>NaN</td>\n",
              "      <td>NaN</td>\n",
              "      <td>NaN</td>\n",
              "      <td>NaN</td>\n",
              "      <td>NaN</td>\n",
              "      <td>NaN</td>\n",
              "    </tr>\n",
              "    <tr>\n",
              "      <th>5.0</th>\n",
              "      <td>4.0</td>\n",
              "      <td>NaN</td>\n",
              "      <td>NaN</td>\n",
              "      <td>NaN</td>\n",
              "      <td>NaN</td>\n",
              "      <td>NaN</td>\n",
              "      <td>NaN</td>\n",
              "      <td>NaN</td>\n",
              "      <td>NaN</td>\n",
              "      <td>NaN</td>\n",
              "      <td>...</td>\n",
              "      <td>NaN</td>\n",
              "      <td>NaN</td>\n",
              "      <td>NaN</td>\n",
              "      <td>NaN</td>\n",
              "      <td>NaN</td>\n",
              "      <td>NaN</td>\n",
              "      <td>NaN</td>\n",
              "      <td>NaN</td>\n",
              "      <td>NaN</td>\n",
              "      <td>NaN</td>\n",
              "    </tr>\n",
              "    <tr>\n",
              "      <th>...</th>\n",
              "      <td>...</td>\n",
              "      <td>...</td>\n",
              "      <td>...</td>\n",
              "      <td>...</td>\n",
              "      <td>...</td>\n",
              "      <td>...</td>\n",
              "      <td>...</td>\n",
              "      <td>...</td>\n",
              "      <td>...</td>\n",
              "      <td>...</td>\n",
              "      <td>...</td>\n",
              "      <td>...</td>\n",
              "      <td>...</td>\n",
              "      <td>...</td>\n",
              "      <td>...</td>\n",
              "      <td>...</td>\n",
              "      <td>...</td>\n",
              "      <td>...</td>\n",
              "      <td>...</td>\n",
              "      <td>...</td>\n",
              "      <td>...</td>\n",
              "    </tr>\n",
              "    <tr>\n",
              "      <th>606.0</th>\n",
              "      <td>2.5</td>\n",
              "      <td>NaN</td>\n",
              "      <td>NaN</td>\n",
              "      <td>NaN</td>\n",
              "      <td>NaN</td>\n",
              "      <td>NaN</td>\n",
              "      <td>2.5</td>\n",
              "      <td>NaN</td>\n",
              "      <td>NaN</td>\n",
              "      <td>NaN</td>\n",
              "      <td>...</td>\n",
              "      <td>NaN</td>\n",
              "      <td>NaN</td>\n",
              "      <td>NaN</td>\n",
              "      <td>NaN</td>\n",
              "      <td>NaN</td>\n",
              "      <td>NaN</td>\n",
              "      <td>NaN</td>\n",
              "      <td>NaN</td>\n",
              "      <td>NaN</td>\n",
              "      <td>NaN</td>\n",
              "    </tr>\n",
              "    <tr>\n",
              "      <th>607.0</th>\n",
              "      <td>4.0</td>\n",
              "      <td>NaN</td>\n",
              "      <td>NaN</td>\n",
              "      <td>NaN</td>\n",
              "      <td>NaN</td>\n",
              "      <td>NaN</td>\n",
              "      <td>NaN</td>\n",
              "      <td>NaN</td>\n",
              "      <td>NaN</td>\n",
              "      <td>NaN</td>\n",
              "      <td>...</td>\n",
              "      <td>NaN</td>\n",
              "      <td>NaN</td>\n",
              "      <td>NaN</td>\n",
              "      <td>NaN</td>\n",
              "      <td>NaN</td>\n",
              "      <td>NaN</td>\n",
              "      <td>NaN</td>\n",
              "      <td>NaN</td>\n",
              "      <td>NaN</td>\n",
              "      <td>NaN</td>\n",
              "    </tr>\n",
              "    <tr>\n",
              "      <th>608.0</th>\n",
              "      <td>2.5</td>\n",
              "      <td>2.0</td>\n",
              "      <td>2.0</td>\n",
              "      <td>NaN</td>\n",
              "      <td>NaN</td>\n",
              "      <td>NaN</td>\n",
              "      <td>NaN</td>\n",
              "      <td>NaN</td>\n",
              "      <td>NaN</td>\n",
              "      <td>4.0</td>\n",
              "      <td>...</td>\n",
              "      <td>NaN</td>\n",
              "      <td>NaN</td>\n",
              "      <td>NaN</td>\n",
              "      <td>NaN</td>\n",
              "      <td>NaN</td>\n",
              "      <td>NaN</td>\n",
              "      <td>NaN</td>\n",
              "      <td>NaN</td>\n",
              "      <td>NaN</td>\n",
              "      <td>NaN</td>\n",
              "    </tr>\n",
              "    <tr>\n",
              "      <th>609.0</th>\n",
              "      <td>3.0</td>\n",
              "      <td>NaN</td>\n",
              "      <td>NaN</td>\n",
              "      <td>NaN</td>\n",
              "      <td>NaN</td>\n",
              "      <td>NaN</td>\n",
              "      <td>NaN</td>\n",
              "      <td>NaN</td>\n",
              "      <td>NaN</td>\n",
              "      <td>4.0</td>\n",
              "      <td>...</td>\n",
              "      <td>NaN</td>\n",
              "      <td>NaN</td>\n",
              "      <td>NaN</td>\n",
              "      <td>NaN</td>\n",
              "      <td>NaN</td>\n",
              "      <td>NaN</td>\n",
              "      <td>NaN</td>\n",
              "      <td>NaN</td>\n",
              "      <td>NaN</td>\n",
              "      <td>NaN</td>\n",
              "    </tr>\n",
              "    <tr>\n",
              "      <th>610.0</th>\n",
              "      <td>5.0</td>\n",
              "      <td>NaN</td>\n",
              "      <td>NaN</td>\n",
              "      <td>NaN</td>\n",
              "      <td>NaN</td>\n",
              "      <td>5.0</td>\n",
              "      <td>NaN</td>\n",
              "      <td>NaN</td>\n",
              "      <td>NaN</td>\n",
              "      <td>NaN</td>\n",
              "      <td>...</td>\n",
              "      <td>NaN</td>\n",
              "      <td>NaN</td>\n",
              "      <td>NaN</td>\n",
              "      <td>NaN</td>\n",
              "      <td>NaN</td>\n",
              "      <td>NaN</td>\n",
              "      <td>NaN</td>\n",
              "      <td>NaN</td>\n",
              "      <td>NaN</td>\n",
              "      <td>NaN</td>\n",
              "    </tr>\n",
              "  </tbody>\n",
              "</table>\n",
              "<p>610 rows × 9724 columns</p>\n",
              "</div>\n",
              "      <button class=\"colab-df-convert\" onclick=\"convertToInteractive('df-f8d70ce6-87cb-49b1-9cf4-0483f321a508')\"\n",
              "              title=\"Convert this dataframe to an interactive table.\"\n",
              "              style=\"display:none;\">\n",
              "        \n",
              "  <svg xmlns=\"http://www.w3.org/2000/svg\" height=\"24px\"viewBox=\"0 0 24 24\"\n",
              "       width=\"24px\">\n",
              "    <path d=\"M0 0h24v24H0V0z\" fill=\"none\"/>\n",
              "    <path d=\"M18.56 5.44l.94 2.06.94-2.06 2.06-.94-2.06-.94-.94-2.06-.94 2.06-2.06.94zm-11 1L8.5 8.5l.94-2.06 2.06-.94-2.06-.94L8.5 2.5l-.94 2.06-2.06.94zm10 10l.94 2.06.94-2.06 2.06-.94-2.06-.94-.94-2.06-.94 2.06-2.06.94z\"/><path d=\"M17.41 7.96l-1.37-1.37c-.4-.4-.92-.59-1.43-.59-.52 0-1.04.2-1.43.59L10.3 9.45l-7.72 7.72c-.78.78-.78 2.05 0 2.83L4 21.41c.39.39.9.59 1.41.59.51 0 1.02-.2 1.41-.59l7.78-7.78 2.81-2.81c.8-.78.8-2.07 0-2.86zM5.41 20L4 18.59l7.72-7.72 1.47 1.35L5.41 20z\"/>\n",
              "  </svg>\n",
              "      </button>\n",
              "      \n",
              "  <style>\n",
              "    .colab-df-container {\n",
              "      display:flex;\n",
              "      flex-wrap:wrap;\n",
              "      gap: 12px;\n",
              "    }\n",
              "\n",
              "    .colab-df-convert {\n",
              "      background-color: #E8F0FE;\n",
              "      border: none;\n",
              "      border-radius: 50%;\n",
              "      cursor: pointer;\n",
              "      display: none;\n",
              "      fill: #1967D2;\n",
              "      height: 32px;\n",
              "      padding: 0 0 0 0;\n",
              "      width: 32px;\n",
              "    }\n",
              "\n",
              "    .colab-df-convert:hover {\n",
              "      background-color: #E2EBFA;\n",
              "      box-shadow: 0px 1px 2px rgba(60, 64, 67, 0.3), 0px 1px 3px 1px rgba(60, 64, 67, 0.15);\n",
              "      fill: #174EA6;\n",
              "    }\n",
              "\n",
              "    [theme=dark] .colab-df-convert {\n",
              "      background-color: #3B4455;\n",
              "      fill: #D2E3FC;\n",
              "    }\n",
              "\n",
              "    [theme=dark] .colab-df-convert:hover {\n",
              "      background-color: #434B5C;\n",
              "      box-shadow: 0px 1px 3px 1px rgba(0, 0, 0, 0.15);\n",
              "      filter: drop-shadow(0px 1px 2px rgba(0, 0, 0, 0.3));\n",
              "      fill: #FFFFFF;\n",
              "    }\n",
              "  </style>\n",
              "\n",
              "      <script>\n",
              "        const buttonEl =\n",
              "          document.querySelector('#df-f8d70ce6-87cb-49b1-9cf4-0483f321a508 button.colab-df-convert');\n",
              "        buttonEl.style.display =\n",
              "          google.colab.kernel.accessAllowed ? 'block' : 'none';\n",
              "\n",
              "        async function convertToInteractive(key) {\n",
              "          const element = document.querySelector('#df-f8d70ce6-87cb-49b1-9cf4-0483f321a508');\n",
              "          const dataTable =\n",
              "            await google.colab.kernel.invokeFunction('convertToInteractive',\n",
              "                                                     [key], {});\n",
              "          if (!dataTable) return;\n",
              "\n",
              "          const docLinkHtml = 'Like what you see? Visit the ' +\n",
              "            '<a target=\"_blank\" href=https://colab.research.google.com/notebooks/data_table.ipynb>data table notebook</a>'\n",
              "            + ' to learn more about interactive tables.';\n",
              "          element.innerHTML = '';\n",
              "          dataTable['output_type'] = 'display_data';\n",
              "          await google.colab.output.renderOutput(dataTable, element);\n",
              "          const docLink = document.createElement('div');\n",
              "          docLink.innerHTML = docLinkHtml;\n",
              "          element.appendChild(docLink);\n",
              "        }\n",
              "      </script>\n",
              "    </div>\n",
              "  </div>\n",
              "  "
            ]
          },
          "metadata": {},
          "execution_count": 79
        }
      ]
    },
    {
      "cell_type": "code",
      "source": [
        "np.mean(df_matrix.count(axis=1)) #avg number of movies rated by users"
      ],
      "metadata": {
        "colab": {
          "base_uri": "https://localhost:8080/"
        },
        "id": "tQYIqICMY5DK",
        "outputId": "7abcba1b-2a54-4b75-a565-4cb3f616f4e6"
      },
      "execution_count": 80,
      "outputs": [
        {
          "output_type": "execute_result",
          "data": {
            "text/plain": [
              "165.30491803278687"
            ]
          },
          "metadata": {},
          "execution_count": 80
        }
      ]
    },
    {
      "cell_type": "code",
      "source": [
        "np.std(df_matrix.count(axis=1)) #std for the number of movies rated by users"
      ],
      "metadata": {
        "colab": {
          "base_uri": "https://localhost:8080/"
        },
        "id": "Lx6xiH8SY9TD",
        "outputId": "7f70d6ee-c1e6-4440-d6db-a0d8cffce520"
      },
      "execution_count": 81,
      "outputs": [
        {
          "output_type": "execute_result",
          "data": {
            "text/plain": [
              "269.2596080610495"
            ]
          },
          "metadata": {},
          "execution_count": 81
        }
      ]
    },
    {
      "cell_type": "code",
      "source": [
        "X = movie_data[[\"user_id\", \"item_id\"]]\n",
        "y = movie_data[\"rating\"]\n",
        "#X = X.astype(float)\n",
        "#y = y.astype(float)\n",
        "\n",
        "# Let's split the data:\n",
        "(X_train_first, y_train_first, X_train_update, y_train_update, X_test_update, y_test_update,\n",
        ") = train_update_test_split(movie_data, frac_new_users=0.2)\n",
        "\n",
        "# Start the training with a portion of the users\n",
        "matrix_factorized = KernelMF(n_epochs=20, n_factors=100, verbose=1, lr=0.001, reg=0.005)\n",
        "matrix_factorized.fit(X_train_first, y_train_first)\n",
        "\n",
        "# Now, we are updating the model with new users\n",
        "matrix_factorized.update_users(X_train_update, y_train_update, lr=0.001, n_epochs=20, verbose=1)\n",
        "pred = matrix_factorized.predict(X_test_update)\n",
        "rmse = mse(y_test_update, pred, squared=False)\n",
        "print(f\"\\nTest RMSE: {rmse:.4f}\")\n",
        "\n",
        "# Now, we can get new recommendations using the model\n",
        "user = 1\n",
        "items_known = X_train_first.query(\"user_id == @user\")[\"item_id\"]\n",
        "matrix_factorized.recommend(user=user, items_known=items_known)"
      ],
      "metadata": {
        "colab": {
          "base_uri": "https://localhost:8080/",
          "height": 1000
        },
        "id": "xX8fpkofX4ge",
        "outputId": "a420be04-e5dd-420f-9f19-53454c233162"
      },
      "execution_count": 82,
      "outputs": [
        {
          "output_type": "stream",
          "name": "stdout",
          "text": [
            "Epoch  1 / 20  -  train_rmse: 0.9795315212045279\n",
            "Epoch  2 / 20  -  train_rmse: 0.9530286631622791\n",
            "Epoch  3 / 20  -  train_rmse: 0.9361394816084095\n",
            "Epoch  4 / 20  -  train_rmse: 0.9237308624104271\n",
            "Epoch  5 / 20  -  train_rmse: 0.9138662092081207\n",
            "Epoch  6 / 20  -  train_rmse: 0.9056409794492676\n",
            "Epoch  7 / 20  -  train_rmse: 0.8985412281039702\n",
            "Epoch  8 / 20  -  train_rmse: 0.8922479977348775\n",
            "Epoch  9 / 20  -  train_rmse: 0.886574971710259\n",
            "Epoch  10 / 20  -  train_rmse: 0.8813808148424449\n",
            "Epoch  11 / 20  -  train_rmse: 0.8765683973353254\n",
            "Epoch  12 / 20  -  train_rmse: 0.8720654001549183\n",
            "Epoch  13 / 20  -  train_rmse: 0.8678220756151704\n",
            "Epoch  14 / 20  -  train_rmse: 0.8637769119931316\n",
            "Epoch  15 / 20  -  train_rmse: 0.8599192136398498\n",
            "Epoch  16 / 20  -  train_rmse: 0.856205274207938\n",
            "Epoch  17 / 20  -  train_rmse: 0.8526361011267178\n",
            "Epoch  18 / 20  -  train_rmse: 0.8491547409261659\n",
            "Epoch  19 / 20  -  train_rmse: 0.8457692141963381\n",
            "Epoch  20 / 20  -  train_rmse: 0.8424654478234105\n",
            "Epoch  1 / 20  -  train_rmse: 0.9709470857044309\n",
            "Epoch  2 / 20  -  train_rmse: 0.9529809494064768\n",
            "Epoch  3 / 20  -  train_rmse: 0.9426919981006251\n",
            "Epoch  4 / 20  -  train_rmse: 0.9351284544245674\n",
            "Epoch  5 / 20  -  train_rmse: 0.9291431621620497\n",
            "Epoch  6 / 20  -  train_rmse: 0.9242607400212696\n",
            "Epoch  7 / 20  -  train_rmse: 0.9201648118451022\n",
            "Epoch  8 / 20  -  train_rmse: 0.9166722758320939\n",
            "Epoch  9 / 20  -  train_rmse: 0.9136324463944989\n",
            "Epoch  10 / 20  -  train_rmse: 0.9109494998344796\n",
            "Epoch  11 / 20  -  train_rmse: 0.9085308790459862\n",
            "Epoch  12 / 20  -  train_rmse: 0.9063377535332965\n",
            "Epoch  13 / 20  -  train_rmse: 0.904313370460576\n",
            "Epoch  14 / 20  -  train_rmse: 0.9024445995212169\n",
            "Epoch  15 / 20  -  train_rmse: 0.9006754108184583\n",
            "Epoch  16 / 20  -  train_rmse: 0.8990161373043655\n",
            "Epoch  17 / 20  -  train_rmse: 0.8974376440696761\n",
            "Epoch  18 / 20  -  train_rmse: 0.8959384794842012\n",
            "Epoch  19 / 20  -  train_rmse: 0.894498845736976\n",
            "Epoch  20 / 20  -  train_rmse: 0.8931155490204216\n",
            "\n",
            "Test RMSE: 0.9181\n"
          ]
        },
        {
          "output_type": "execute_result",
          "data": {
            "text/plain": [
              "      user_id  item_id  rating_pred\n",
              "207         1    912.0     5.000000\n",
              "124         1   1193.0     5.000000\n",
              "563         1    318.0     5.000000\n",
              "742         1    858.0     5.000000\n",
              "422         1    541.0     4.908817\n",
              "159         1   7361.0     4.904781\n",
              "215         1   4973.0     4.904356\n",
              "1282        1   1201.0     4.897769\n",
              "141         1    778.0     4.843351\n",
              "154         1   1221.0     4.828509"
            ],
            "text/html": [
              "\n",
              "  <div id=\"df-04586465-965b-444d-9266-618184df082c\">\n",
              "    <div class=\"colab-df-container\">\n",
              "      <div>\n",
              "<style scoped>\n",
              "    .dataframe tbody tr th:only-of-type {\n",
              "        vertical-align: middle;\n",
              "    }\n",
              "\n",
              "    .dataframe tbody tr th {\n",
              "        vertical-align: top;\n",
              "    }\n",
              "\n",
              "    .dataframe thead th {\n",
              "        text-align: right;\n",
              "    }\n",
              "</style>\n",
              "<table border=\"1\" class=\"dataframe\">\n",
              "  <thead>\n",
              "    <tr style=\"text-align: right;\">\n",
              "      <th></th>\n",
              "      <th>user_id</th>\n",
              "      <th>item_id</th>\n",
              "      <th>rating_pred</th>\n",
              "    </tr>\n",
              "  </thead>\n",
              "  <tbody>\n",
              "    <tr>\n",
              "      <th>207</th>\n",
              "      <td>1</td>\n",
              "      <td>912.0</td>\n",
              "      <td>5.000000</td>\n",
              "    </tr>\n",
              "    <tr>\n",
              "      <th>124</th>\n",
              "      <td>1</td>\n",
              "      <td>1193.0</td>\n",
              "      <td>5.000000</td>\n",
              "    </tr>\n",
              "    <tr>\n",
              "      <th>563</th>\n",
              "      <td>1</td>\n",
              "      <td>318.0</td>\n",
              "      <td>5.000000</td>\n",
              "    </tr>\n",
              "    <tr>\n",
              "      <th>742</th>\n",
              "      <td>1</td>\n",
              "      <td>858.0</td>\n",
              "      <td>5.000000</td>\n",
              "    </tr>\n",
              "    <tr>\n",
              "      <th>422</th>\n",
              "      <td>1</td>\n",
              "      <td>541.0</td>\n",
              "      <td>4.908817</td>\n",
              "    </tr>\n",
              "    <tr>\n",
              "      <th>159</th>\n",
              "      <td>1</td>\n",
              "      <td>7361.0</td>\n",
              "      <td>4.904781</td>\n",
              "    </tr>\n",
              "    <tr>\n",
              "      <th>215</th>\n",
              "      <td>1</td>\n",
              "      <td>4973.0</td>\n",
              "      <td>4.904356</td>\n",
              "    </tr>\n",
              "    <tr>\n",
              "      <th>1282</th>\n",
              "      <td>1</td>\n",
              "      <td>1201.0</td>\n",
              "      <td>4.897769</td>\n",
              "    </tr>\n",
              "    <tr>\n",
              "      <th>141</th>\n",
              "      <td>1</td>\n",
              "      <td>778.0</td>\n",
              "      <td>4.843351</td>\n",
              "    </tr>\n",
              "    <tr>\n",
              "      <th>154</th>\n",
              "      <td>1</td>\n",
              "      <td>1221.0</td>\n",
              "      <td>4.828509</td>\n",
              "    </tr>\n",
              "  </tbody>\n",
              "</table>\n",
              "</div>\n",
              "      <button class=\"colab-df-convert\" onclick=\"convertToInteractive('df-04586465-965b-444d-9266-618184df082c')\"\n",
              "              title=\"Convert this dataframe to an interactive table.\"\n",
              "              style=\"display:none;\">\n",
              "        \n",
              "  <svg xmlns=\"http://www.w3.org/2000/svg\" height=\"24px\"viewBox=\"0 0 24 24\"\n",
              "       width=\"24px\">\n",
              "    <path d=\"M0 0h24v24H0V0z\" fill=\"none\"/>\n",
              "    <path d=\"M18.56 5.44l.94 2.06.94-2.06 2.06-.94-2.06-.94-.94-2.06-.94 2.06-2.06.94zm-11 1L8.5 8.5l.94-2.06 2.06-.94-2.06-.94L8.5 2.5l-.94 2.06-2.06.94zm10 10l.94 2.06.94-2.06 2.06-.94-2.06-.94-.94-2.06-.94 2.06-2.06.94z\"/><path d=\"M17.41 7.96l-1.37-1.37c-.4-.4-.92-.59-1.43-.59-.52 0-1.04.2-1.43.59L10.3 9.45l-7.72 7.72c-.78.78-.78 2.05 0 2.83L4 21.41c.39.39.9.59 1.41.59.51 0 1.02-.2 1.41-.59l7.78-7.78 2.81-2.81c.8-.78.8-2.07 0-2.86zM5.41 20L4 18.59l7.72-7.72 1.47 1.35L5.41 20z\"/>\n",
              "  </svg>\n",
              "      </button>\n",
              "      \n",
              "  <style>\n",
              "    .colab-df-container {\n",
              "      display:flex;\n",
              "      flex-wrap:wrap;\n",
              "      gap: 12px;\n",
              "    }\n",
              "\n",
              "    .colab-df-convert {\n",
              "      background-color: #E8F0FE;\n",
              "      border: none;\n",
              "      border-radius: 50%;\n",
              "      cursor: pointer;\n",
              "      display: none;\n",
              "      fill: #1967D2;\n",
              "      height: 32px;\n",
              "      padding: 0 0 0 0;\n",
              "      width: 32px;\n",
              "    }\n",
              "\n",
              "    .colab-df-convert:hover {\n",
              "      background-color: #E2EBFA;\n",
              "      box-shadow: 0px 1px 2px rgba(60, 64, 67, 0.3), 0px 1px 3px 1px rgba(60, 64, 67, 0.15);\n",
              "      fill: #174EA6;\n",
              "    }\n",
              "\n",
              "    [theme=dark] .colab-df-convert {\n",
              "      background-color: #3B4455;\n",
              "      fill: #D2E3FC;\n",
              "    }\n",
              "\n",
              "    [theme=dark] .colab-df-convert:hover {\n",
              "      background-color: #434B5C;\n",
              "      box-shadow: 0px 1px 3px 1px rgba(0, 0, 0, 0.15);\n",
              "      filter: drop-shadow(0px 1px 2px rgba(0, 0, 0, 0.3));\n",
              "      fill: #FFFFFF;\n",
              "    }\n",
              "  </style>\n",
              "\n",
              "      <script>\n",
              "        const buttonEl =\n",
              "          document.querySelector('#df-04586465-965b-444d-9266-618184df082c button.colab-df-convert');\n",
              "        buttonEl.style.display =\n",
              "          google.colab.kernel.accessAllowed ? 'block' : 'none';\n",
              "\n",
              "        async function convertToInteractive(key) {\n",
              "          const element = document.querySelector('#df-04586465-965b-444d-9266-618184df082c');\n",
              "          const dataTable =\n",
              "            await google.colab.kernel.invokeFunction('convertToInteractive',\n",
              "                                                     [key], {});\n",
              "          if (!dataTable) return;\n",
              "\n",
              "          const docLinkHtml = 'Like what you see? Visit the ' +\n",
              "            '<a target=\"_blank\" href=https://colab.research.google.com/notebooks/data_table.ipynb>data table notebook</a>'\n",
              "            + ' to learn more about interactive tables.';\n",
              "          element.innerHTML = '';\n",
              "          dataTable['output_type'] = 'display_data';\n",
              "          await google.colab.output.renderOutput(dataTable, element);\n",
              "          const docLink = document.createElement('div');\n",
              "          docLink.innerHTML = docLinkHtml;\n",
              "          element.appendChild(docLink);\n",
              "        }\n",
              "      </script>\n",
              "    </div>\n",
              "  </div>\n",
              "  "
            ]
          },
          "metadata": {},
          "execution_count": 82
        }
      ]
    },
    {
      "cell_type": "code",
      "source": [
        "len(matrix_factorized.user_features) "
      ],
      "metadata": {
        "colab": {
          "base_uri": "https://localhost:8080/"
        },
        "id": "uelybmBriD22",
        "outputId": "51475e74-729f-4232-fef4-c1c985503428"
      },
      "execution_count": null,
      "outputs": [
        {
          "output_type": "execute_result",
          "data": {
            "text/plain": [
              "610"
            ]
          },
          "metadata": {},
          "execution_count": 83
        }
      ]
    },
    {
      "cell_type": "code",
      "source": [
        "X = np.arange(1, 21)\n",
        "y = matrix_factorized.train_rmse \n",
        "plt.plot(X.astype('str'), y, '--bo')\n",
        "\n",
        "plt.xlabel(\"Epoch\")\n",
        "plt.ylabel(\"RMSE\")\n",
        "plt.title(\"Root Mean Square Error vs Epoch\")\n",
        "\n",
        "plt.show()\n",
        "#Here, we can see that the RMSE is steadily decreasing by epochs. I plotted the graph for the effect of new user's on the pretrained model."
      ],
      "metadata": {
        "colab": {
          "base_uri": "https://localhost:8080/",
          "height": 295
        },
        "id": "TJnBOwS6mT21",
        "outputId": "eca22009-c540-44e9-e2be-ed089ca851e5"
      },
      "execution_count": 9,
      "outputs": [
        {
          "output_type": "display_data",
          "data": {
            "text/plain": [
              "<Figure size 432x288 with 1 Axes>"
            ],
            "image/png": "[encoded data removed]"
          },
          "metadata": {
            "needs_background": "light"
          }
        }
      ]
    },
    {
      "cell_type": "markdown",
      "source": [
        "Now, let us analyze the outcome of the model"
      ],
      "metadata": {
        "id": "h1bdCBiDo2ka"
      }
    },
    {
      "cell_type": "code",
      "source": [
        "#Analyzing users' biases toward ratings:\n",
        "np.mean(matrix_factorized.user_biases) #mean bias of users = 0.0181\n",
        "np.var(matrix_factorized.user_biases) #var bias of users = 0.103\n",
        "np.max(matrix_factorized.user_biases) #max bias of a user = 0.93\n",
        "np.min(matrix_factorized.user_biases) #max bias of a user = -1.36"
      ],
      "metadata": {
        "colab": {
          "base_uri": "https://localhost:8080/"
        },
        "id": "EjxLm4f_o7OV",
        "outputId": "28a9a137-63a3-46b9-9655-c012ea75390d"
      },
      "execution_count": 31,
      "outputs": [
        {
          "output_type": "execute_result",
          "data": {
            "text/plain": [
              "-1.3623809904543696"
            ]
          },
          "metadata": {},
          "execution_count": 31
        }
      ]
    },
    {
      "cell_type": "code",
      "source": [
        "#Analyzing movies' biases:\n",
        "np.mean(matrix_factorized.item_biases) #mean bias of users = 0.001\n",
        "np.var(matrix_factorized.item_biases) #mean bias of users = 0.009\n",
        "np.max(matrix_factorized.item_biases) #max bias of a user = 0.85\n",
        "np.min(matrix_factorized.item_biases) #max bias of a user = -0.67"
      ],
      "metadata": {
        "colab": {
          "base_uri": "https://localhost:8080/"
        },
        "id": "e1E_eQ5Xo7Qh",
        "outputId": "6547328d-ca97-4111-8a62-5ea23763a880"
      },
      "execution_count": 34,
      "outputs": [
        {
          "output_type": "execute_result",
          "data": {
            "text/plain": [
              "-0.6785058589595153"
            ]
          },
          "metadata": {},
          "execution_count": 34
        }
      ]
    },
    {
      "cell_type": "code",
      "source": [
        "matrix_factorized.global_mean #Mean ratings for all ratings (real and predictions total)"
      ],
      "metadata": {
        "colab": {
          "base_uri": "https://localhost:8080/"
        },
        "id": "rf2-kzsJm-9w",
        "outputId": "d4cbc33f-cb85-45f7-81e6-6d1015306d6b"
      },
      "execution_count": 10,
      "outputs": [
        {
          "output_type": "execute_result",
          "data": {
            "text/plain": [
              "3.515251720880011"
            ]
          },
          "metadata": {},
          "execution_count": 10
        }
      ]
    },
    {
      "cell_type": "code",
      "source": [
        "np.mean(movie_data['rating']) #Mean ratings for already rated ones"
      ],
      "metadata": {
        "colab": {
          "base_uri": "https://localhost:8080/"
        },
        "id": "HsTM6DRsogqC",
        "outputId": "c7ee84f0-b17a-4087-ae24-caa591baccb6"
      },
      "execution_count": 11,
      "outputs": [
        {
          "output_type": "execute_result",
          "data": {
            "text/plain": [
              "3.501556983616962"
            ]
          },
          "metadata": {},
          "execution_count": 11
        }
      ]
    },
    {
      "cell_type": "code",
      "source": [
        "np.max(np.mean(matrix_factorized.user_features, axis = 0)) #max average for a specific feature in user K-vectors is 0.01\n",
        "np.min(np.mean(matrix_factorized.user_features, axis = 0)) #min average for a specific feature in user K-vectors is -0.01\n",
        "np.mean(np.mean(matrix_factorized.user_features, axis = 0)) #average of feature averages in user K-vectors is 0.001\n",
        "np.var(np.mean(matrix_factorized.user_features, axis = 0)) #average of feature averages in user K-vectors is 0.00002"
      ],
      "metadata": {
        "colab": {
          "base_uri": "https://localhost:8080/"
        },
        "id": "WFg0vp7cpzPF",
        "outputId": "717fcf73-b988-4080-bc98-1261ed394d04"
      },
      "execution_count": 40,
      "outputs": [
        {
          "output_type": "execute_result",
          "data": {
            "text/plain": [
              "2.1701151521863745e-05"
            ]
          },
          "metadata": {},
          "execution_count": 40
        }
      ]
    },
    {
      "cell_type": "code",
      "source": [
        "np.max(np.mean(matrix_factorized.item_features, axis = 0)) #max average for a specific feature in item K-vectors is 0.002\n",
        "np.min(np.mean(matrix_factorized.item_features, axis = 0)) #min average for a specific feature in user K-vectors is -0.002"
      ],
      "metadata": {
        "colab": {
          "base_uri": "https://localhost:8080/"
        },
        "id": "76kRY2RIqnuR",
        "outputId": "8ea017fb-fc73-4ee9-baa1-44f59a707637"
      },
      "execution_count": 44,
      "outputs": [
        {
          "output_type": "execute_result",
          "data": {
            "text/plain": [
              "-0.002582999431010328"
            ]
          },
          "metadata": {},
          "execution_count": 44
        }
      ]
    },
    {
      "cell_type": "code",
      "source": [
        "movie_data"
      ],
      "metadata": {
        "colab": {
          "base_uri": "https://localhost:8080/",
          "height": 424
        },
        "id": "xngLJ2LdraLI",
        "outputId": "f1c8066f-fc3c-449a-9ae7-dfddb60e8af9"
      },
      "execution_count": 15,
      "outputs": [
        {
          "output_type": "execute_result",
          "data": {
            "text/plain": [
              "        user_id   item_id  rating\n",
              "1           1.0       1.0     4.0\n",
              "2           1.0       3.0     4.0\n",
              "3           1.0       6.0     4.0\n",
              "4           1.0      47.0     5.0\n",
              "5           1.0      50.0     5.0\n",
              "...         ...       ...     ...\n",
              "100832    610.0  166534.0     4.0\n",
              "100833    610.0  168248.0     5.0\n",
              "100834    610.0  168250.0     5.0\n",
              "100835    610.0  168252.0     5.0\n",
              "100836    610.0  170875.0     3.0\n",
              "\n",
              "[100836 rows x 3 columns]"
            ],
            "text/html": [
              "\n",
              "  <div id=\"df-2a310fa7-542d-409e-b2b8-1e14a7fdc0db\">\n",
              "    <div class=\"colab-df-container\">\n",
              "      <div>\n",
              "<style scoped>\n",
              "    .dataframe tbody tr th:only-of-type {\n",
              "        vertical-align: middle;\n",
              "    }\n",
              "\n",
              "    .dataframe tbody tr th {\n",
              "        vertical-align: top;\n",
              "    }\n",
              "\n",
              "    .dataframe thead th {\n",
              "        text-align: right;\n",
              "    }\n",
              "</style>\n",
              "<table border=\"1\" class=\"dataframe\">\n",
              "  <thead>\n",
              "    <tr style=\"text-align: right;\">\n",
              "      <th></th>\n",
              "      <th>user_id</th>\n",
              "      <th>item_id</th>\n",
              "      <th>rating</th>\n",
              "    </tr>\n",
              "  </thead>\n",
              "  <tbody>\n",
              "    <tr>\n",
              "      <th>1</th>\n",
              "      <td>1.0</td>\n",
              "      <td>1.0</td>\n",
              "      <td>4.0</td>\n",
              "    </tr>\n",
              "    <tr>\n",
              "      <th>2</th>\n",
              "      <td>1.0</td>\n",
              "      <td>3.0</td>\n",
              "      <td>4.0</td>\n",
              "    </tr>\n",
              "    <tr>\n",
              "      <th>3</th>\n",
              "      <td>1.0</td>\n",
              "      <td>6.0</td>\n",
              "      <td>4.0</td>\n",
              "    </tr>\n",
              "    <tr>\n",
              "      <th>4</th>\n",
              "      <td>1.0</td>\n",
              "      <td>47.0</td>\n",
              "      <td>5.0</td>\n",
              "    </tr>\n",
              "    <tr>\n",
              "      <th>5</th>\n",
              "      <td>1.0</td>\n",
              "      <td>50.0</td>\n",
              "      <td>5.0</td>\n",
              "    </tr>\n",
              "    <tr>\n",
              "      <th>...</th>\n",
              "      <td>...</td>\n",
              "      <td>...</td>\n",
              "      <td>...</td>\n",
              "    </tr>\n",
              "    <tr>\n",
              "      <th>100832</th>\n",
              "      <td>610.0</td>\n",
              "      <td>166534.0</td>\n",
              "      <td>4.0</td>\n",
              "    </tr>\n",
              "    <tr>\n",
              "      <th>100833</th>\n",
              "      <td>610.0</td>\n",
              "      <td>168248.0</td>\n",
              "      <td>5.0</td>\n",
              "    </tr>\n",
              "    <tr>\n",
              "      <th>100834</th>\n",
              "      <td>610.0</td>\n",
              "      <td>168250.0</td>\n",
              "      <td>5.0</td>\n",
              "    </tr>\n",
              "    <tr>\n",
              "      <th>100835</th>\n",
              "      <td>610.0</td>\n",
              "      <td>168252.0</td>\n",
              "      <td>5.0</td>\n",
              "    </tr>\n",
              "    <tr>\n",
              "      <th>100836</th>\n",
              "      <td>610.0</td>\n",
              "      <td>170875.0</td>\n",
              "      <td>3.0</td>\n",
              "    </tr>\n",
              "  </tbody>\n",
              "</table>\n",
              "<p>100836 rows × 3 columns</p>\n",
              "</div>\n",
              "      <button class=\"colab-df-convert\" onclick=\"convertToInteractive('df-2a310fa7-542d-409e-b2b8-1e14a7fdc0db')\"\n",
              "              title=\"Convert this dataframe to an interactive table.\"\n",
              "              style=\"display:none;\">\n",
              "        \n",
              "  <svg xmlns=\"http://www.w3.org/2000/svg\" height=\"24px\"viewBox=\"0 0 24 24\"\n",
              "       width=\"24px\">\n",
              "    <path d=\"M0 0h24v24H0V0z\" fill=\"none\"/>\n",
              "    <path d=\"M18.56 5.44l.94 2.06.94-2.06 2.06-.94-2.06-.94-.94-2.06-.94 2.06-2.06.94zm-11 1L8.5 8.5l.94-2.06 2.06-.94-2.06-.94L8.5 2.5l-.94 2.06-2.06.94zm10 10l.94 2.06.94-2.06 2.06-.94-2.06-.94-.94-2.06-.94 2.06-2.06.94z\"/><path d=\"M17.41 7.96l-1.37-1.37c-.4-.4-.92-.59-1.43-.59-.52 0-1.04.2-1.43.59L10.3 9.45l-7.72 7.72c-.78.78-.78 2.05 0 2.83L4 21.41c.39.39.9.59 1.41.59.51 0 1.02-.2 1.41-.59l7.78-7.78 2.81-2.81c.8-.78.8-2.07 0-2.86zM5.41 20L4 18.59l7.72-7.72 1.47 1.35L5.41 20z\"/>\n",
              "  </svg>\n",
              "      </button>\n",
              "      \n",
              "  <style>\n",
              "    .colab-df-container {\n",
              "      display:flex;\n",
              "      flex-wrap:wrap;\n",
              "      gap: 12px;\n",
              "    }\n",
              "\n",
              "    .colab-df-convert {\n",
              "      background-color: #E8F0FE;\n",
              "      border: none;\n",
              "      border-radius: 50%;\n",
              "      cursor: pointer;\n",
              "      display: none;\n",
              "      fill: #1967D2;\n",
              "      height: 32px;\n",
              "      padding: 0 0 0 0;\n",
              "      width: 32px;\n",
              "    }\n",
              "\n",
              "    .colab-df-convert:hover {\n",
              "      background-color: #E2EBFA;\n",
              "      box-shadow: 0px 1px 2px rgba(60, 64, 67, 0.3), 0px 1px 3px 1px rgba(60, 64, 67, 0.15);\n",
              "      fill: #174EA6;\n",
              "    }\n",
              "\n",
              "    [theme=dark] .colab-df-convert {\n",
              "      background-color: #3B4455;\n",
              "      fill: #D2E3FC;\n",
              "    }\n",
              "\n",
              "    [theme=dark] .colab-df-convert:hover {\n",
              "      background-color: #434B5C;\n",
              "      box-shadow: 0px 1px 3px 1px rgba(0, 0, 0, 0.15);\n",
              "      filter: drop-shadow(0px 1px 2px rgba(0, 0, 0, 0.3));\n",
              "      fill: #FFFFFF;\n",
              "    }\n",
              "  </style>\n",
              "\n",
              "      <script>\n",
              "        const buttonEl =\n",
              "          document.querySelector('#df-2a310fa7-542d-409e-b2b8-1e14a7fdc0db button.colab-df-convert');\n",
              "        buttonEl.style.display =\n",
              "          google.colab.kernel.accessAllowed ? 'block' : 'none';\n",
              "\n",
              "        async function convertToInteractive(key) {\n",
              "          const element = document.querySelector('#df-2a310fa7-542d-409e-b2b8-1e14a7fdc0db');\n",
              "          const dataTable =\n",
              "            await google.colab.kernel.invokeFunction('convertToInteractive',\n",
              "                                                     [key], {});\n",
              "          if (!dataTable) return;\n",
              "\n",
              "          const docLinkHtml = 'Like what you see? Visit the ' +\n",
              "            '<a target=\"_blank\" href=https://colab.research.google.com/notebooks/data_table.ipynb>data table notebook</a>'\n",
              "            + ' to learn more about interactive tables.';\n",
              "          element.innerHTML = '';\n",
              "          dataTable['output_type'] = 'display_data';\n",
              "          await google.colab.output.renderOutput(dataTable, element);\n",
              "          const docLink = document.createElement('div');\n",
              "          docLink.innerHTML = docLinkHtml;\n",
              "          element.appendChild(docLink);\n",
              "        }\n",
              "      </script>\n",
              "    </div>\n",
              "  </div>\n",
              "  "
            ]
          },
          "metadata": {},
          "execution_count": 15
        }
      ]
    },
    {
      "cell_type": "code",
      "source": [
        "len(matrix_factorized.user_id_map) "
      ],
      "metadata": {
        "id": "RKKxsTMVruOG",
        "colab": {
          "base_uri": "https://localhost:8080/"
        },
        "outputId": "a6b81fb1-0634-4010-98e9-36d7d8e53a7f"
      },
      "execution_count": 20,
      "outputs": [
        {
          "output_type": "execute_result",
          "data": {
            "text/plain": [
              "610"
            ]
          },
          "metadata": {},
          "execution_count": 20
        }
      ]
    },
    {
      "cell_type": "code",
      "source": [
        "first_user_index = matrix_factorized.user_id_map[1] #301"
      ],
      "metadata": {
        "id": "gdOq7wNDnDgJ"
      },
      "execution_count": 56,
      "outputs": []
    },
    {
      "cell_type": "code",
      "source": [
        "first_user_fav_movie_index = matrix_factorized.item_id_map[318] #686"
      ],
      "metadata": {
        "id": "9LtuwZo9wF87"
      },
      "execution_count": 57,
      "outputs": []
    },
    {
      "cell_type": "code",
      "source": [
        "first_user_K_vector = matrix_factorized.user_features[first_user_index]\n",
        "first_user_fav_movie_K_vector = matrix_factorized.item_features[first_user_fav_movie_index]"
      ],
      "metadata": {
        "id": "bU9svz9oxGWx"
      },
      "execution_count": 58,
      "outputs": []
    },
    {
      "cell_type": "code",
      "source": [
        "np.dot(first_user_K_vector, first_user_fav_movie_K_vector)"
      ],
      "metadata": {
        "colab": {
          "base_uri": "https://localhost:8080/"
        },
        "id": "gGpw48ofx6-Y",
        "outputId": "d651fe3f-9c51-46f7-af05-c309b1a37d9e"
      },
      "execution_count": 59,
      "outputs": [
        {
          "output_type": "execute_result",
          "data": {
            "text/plain": [
              "0.0656938864809962"
            ]
          },
          "metadata": {},
          "execution_count": 59
        }
      ]
    },
    {
      "cell_type": "code",
      "source": [
        "matrix_factorized.user_id_map[610]"
      ],
      "metadata": {
        "colab": {
          "base_uri": "https://localhost:8080/"
        },
        "id": "fy7bRSrMyCn2",
        "outputId": "9edba49b-3523-4d42-ca77-f4f610ecde78"
      },
      "execution_count": 60,
      "outputs": [
        {
          "output_type": "execute_result",
          "data": {
            "text/plain": [
              "16"
            ]
          },
          "metadata": {},
          "execution_count": 60
        }
      ]
    },
    {
      "cell_type": "code",
      "source": [
        "matrix_factorized.item_id_map[1]"
      ],
      "metadata": {
        "colab": {
          "base_uri": "https://localhost:8080/"
        },
        "id": "hxfU5A1-zC6K",
        "outputId": "6d071b92-8bd8-41a2-f667-d7cfe08b34f3"
      },
      "execution_count": 61,
      "outputs": [
        {
          "output_type": "execute_result",
          "data": {
            "text/plain": [
              "264"
            ]
          },
          "metadata": {},
          "execution_count": 61
        }
      ]
    },
    {
      "cell_type": "code",
      "source": [
        "np.dot(matrix_factorized.user_features[16], matrix_factorized.item_features[264])"
      ],
      "metadata": {
        "colab": {
          "base_uri": "https://localhost:8080/"
        },
        "id": "6i27N-JCzHgH",
        "outputId": "da693d14-7b23-48c4-ab53-d05b36e6f0e0"
      },
      "execution_count": 65,
      "outputs": [
        {
          "output_type": "execute_result",
          "data": {
            "text/plain": [
              "0.21196260475790268"
            ]
          },
          "metadata": {},
          "execution_count": 65
        }
      ]
    },
    {
      "cell_type": "code",
      "source": [
        "np.linalg.norm([3,4,5])\n"
      ],
      "metadata": {
        "colab": {
          "base_uri": "https://localhost:8080/"
        },
        "id": "76qSCN2CzQ7h",
        "outputId": "7c5abc97-ce80-48af-b79d-4d9a19f9704f"
      },
      "execution_count": 63,
      "outputs": [
        {
          "output_type": "execute_result",
          "data": {
            "text/plain": [
              "7.0710678118654755"
            ]
          },
          "metadata": {},
          "execution_count": 63
        }
      ]
    },
    {
      "cell_type": "code",
      "source": [
        "np.dot(matrix_factorized.user_features[16], matrix_factorized.item_features[264])/(np.linalg.norm(matrix_factorized.user_features[16])*np.linalg.norm(matrix_factorized.item_features[264])) #cos teta of top rated movie"
      ],
      "metadata": {
        "colab": {
          "base_uri": "https://localhost:8080/"
        },
        "id": "p_LFs9sfzlqN",
        "outputId": "50df5406-37e6-4c9c-aa66-2d36d34b4816"
      },
      "execution_count": 66,
      "outputs": [
        {
          "output_type": "execute_result",
          "data": {
            "text/plain": [
              "0.21579413563979694"
            ]
          },
          "metadata": {},
          "execution_count": 66
        }
      ]
    },
    {
      "cell_type": "code",
      "source": [
        "epoch = 20\n",
        "factor_lens = [5, 10, 20, 50, 100, 200, 500]\n",
        "exp_count = len(factor_lens)\n",
        "rmse_train_result_vecs = [None]*exp_count\n",
        "rmse_test_result_vals = [None]*exp_count\n",
        "\n",
        "for i, factor_len in enumerate(factor_lens):\n",
        "  print(\"factor length: \" + str(factor_len))\n",
        "\n",
        "  # Start the training with a portion of the users\n",
        "  matrix_factorized = KernelMF(n_epochs=20, n_factors=factor_len, verbose=1, lr=0.001, reg=0.005)\n",
        "  matrix_factorized.fit(X_train_first, y_train_first)\n",
        "\n",
        "  # Now, we are updating the model with new users\n",
        "  matrix_factorized.update_users(X_train_update, y_train_update, lr=0.001, n_epochs=epoch, verbose=1)\n",
        "  pred = matrix_factorized.predict(X_test_update)\n",
        "  rmse = mse(y_test_update, pred, squared=False)\n",
        "  #print(f\"\\nTest RMSE: {rmse:.4f}\")\n",
        "  rmse_test_result_vals[i] = rmse\n",
        "  rmse_train_result_vecs[i] = matrix_factorized.train_rmse"
      ],
      "metadata": {
        "colab": {
          "base_uri": "https://localhost:8080/"
        },
        "id": "lnSZjPig44f3",
        "outputId": "2054876a-a2b9-4338-c5ea-ad80ccbdf196"
      },
      "execution_count": 113,
      "outputs": [
        {
          "output_type": "stream",
          "name": "stdout",
          "text": [
            "factor length: 5\n",
            "Epoch  1 / 20  -  train_rmse: 0.976221122082884\n",
            "Epoch  2 / 20  -  train_rmse: 0.9514059658208692\n",
            "Epoch  3 / 20  -  train_rmse: 0.9362941622910848\n",
            "Epoch  4 / 20  -  train_rmse: 0.9255835506825096\n",
            "Epoch  5 / 20  -  train_rmse: 0.9173525895444786\n",
            "Epoch  6 / 20  -  train_rmse: 0.9107028456973837\n",
            "Epoch  7 / 20  -  train_rmse: 0.9051781007070315\n",
            "Epoch  8 / 20  -  train_rmse: 0.9004492901185416\n",
            "Epoch  9 / 20  -  train_rmse: 0.896324801010681\n",
            "Epoch  10 / 20  -  train_rmse: 0.8926645731176809\n",
            "Epoch  11 / 20  -  train_rmse: 0.889397024974287\n",
            "Epoch  12 / 20  -  train_rmse: 0.8864029030649534\n",
            "Epoch  13 / 20  -  train_rmse: 0.8836782591920987\n",
            "Epoch  14 / 20  -  train_rmse: 0.8811599455100776\n",
            "Epoch  15 / 20  -  train_rmse: 0.8788190237527582\n",
            "Epoch  16 / 20  -  train_rmse: 0.8766436549578669\n",
            "Epoch  17 / 20  -  train_rmse: 0.8746039680712654\n",
            "Epoch  18 / 20  -  train_rmse: 0.8726781855568012\n",
            "Epoch  19 / 20  -  train_rmse: 0.8708786587073779\n",
            "Epoch  20 / 20  -  train_rmse: 0.8691457662564814\n",
            "Epoch  1 / 20  -  train_rmse: 0.9674544038326296\n",
            "Epoch  2 / 20  -  train_rmse: 0.9503911392897066\n",
            "Epoch  3 / 20  -  train_rmse: 0.9411013033786972\n",
            "Epoch  4 / 20  -  train_rmse: 0.9344600803141433\n",
            "Epoch  5 / 20  -  train_rmse: 0.9293814547691996\n",
            "Epoch  6 / 20  -  train_rmse: 0.9253855601527873\n",
            "Epoch  7 / 20  -  train_rmse: 0.9221607565679617\n",
            "Epoch  8 / 20  -  train_rmse: 0.9195470927046594\n",
            "Epoch  9 / 20  -  train_rmse: 0.9173677773461038\n",
            "Epoch  10 / 20  -  train_rmse: 0.9155168445061052\n",
            "Epoch  11 / 20  -  train_rmse: 0.9139334516328956\n",
            "Epoch  12 / 20  -  train_rmse: 0.9125727651396208\n",
            "Epoch  13 / 20  -  train_rmse: 0.9113799393217162\n",
            "Epoch  14 / 20  -  train_rmse: 0.9103283811133048\n",
            "Epoch  15 / 20  -  train_rmse: 0.9093856674316871\n",
            "Epoch  16 / 20  -  train_rmse: 0.9085391029671462\n",
            "Epoch  17 / 20  -  train_rmse: 0.9077745146683468\n",
            "Epoch  18 / 20  -  train_rmse: 0.9070774689048675\n",
            "Epoch  19 / 20  -  train_rmse: 0.9064372811757191\n",
            "Epoch  20 / 20  -  train_rmse: 0.9058445191233454\n",
            "factor length: 10\n",
            "Epoch  1 / 20  -  train_rmse: 0.9763653681353707\n",
            "Epoch  2 / 20  -  train_rmse: 0.9514884900807332\n",
            "Epoch  3 / 20  -  train_rmse: 0.9362846274822932\n",
            "Epoch  4 / 20  -  train_rmse: 0.9254488093276867\n",
            "Epoch  5 / 20  -  train_rmse: 0.9171435351345497\n",
            "Epoch  6 / 20  -  train_rmse: 0.9104316917446569\n",
            "Epoch  7 / 20  -  train_rmse: 0.9048192214873586\n",
            "Epoch  8 / 20  -  train_rmse: 0.9000132147929606\n",
            "Epoch  9 / 20  -  train_rmse: 0.895818962487667\n",
            "Epoch  10 / 20  -  train_rmse: 0.8920829045431564\n",
            "Epoch  11 / 20  -  train_rmse: 0.8887073700366948\n",
            "Epoch  12 / 20  -  train_rmse: 0.8856502439361904\n",
            "Epoch  13 / 20  -  train_rmse: 0.8828454067305181\n",
            "Epoch  14 / 20  -  train_rmse: 0.8802484358201645\n",
            "Epoch  15 / 20  -  train_rmse: 0.877832621083932\n",
            "Epoch  16 / 20  -  train_rmse: 0.8755959822575199\n",
            "Epoch  17 / 20  -  train_rmse: 0.8734554121980541\n",
            "Epoch  18 / 20  -  train_rmse: 0.8714588856479581\n",
            "Epoch  19 / 20  -  train_rmse: 0.869565690757524\n",
            "Epoch  20 / 20  -  train_rmse: 0.8677654602898149\n",
            "Epoch  1 / 20  -  train_rmse: 0.9678734908686902\n",
            "Epoch  2 / 20  -  train_rmse: 0.9507873000531843\n",
            "Epoch  3 / 20  -  train_rmse: 0.9413631273147708\n",
            "Epoch  4 / 20  -  train_rmse: 0.934659154693049\n",
            "Epoch  5 / 20  -  train_rmse: 0.9295558997762106\n",
            "Epoch  6 / 20  -  train_rmse: 0.9255200237218488\n",
            "Epoch  7 / 20  -  train_rmse: 0.9222775363917749\n",
            "Epoch  8 / 20  -  train_rmse: 0.9196188102566417\n",
            "Epoch  9 / 20  -  train_rmse: 0.917389437066864\n",
            "Epoch  10 / 20  -  train_rmse: 0.9155083418004366\n",
            "Epoch  11 / 20  -  train_rmse: 0.9138836974767476\n",
            "Epoch  12 / 20  -  train_rmse: 0.9124737673417092\n",
            "Epoch  13 / 20  -  train_rmse: 0.9112409117384849\n",
            "Epoch  14 / 20  -  train_rmse: 0.9101470430465831\n",
            "Epoch  15 / 20  -  train_rmse: 0.909159899088623\n",
            "Epoch  16 / 20  -  train_rmse: 0.9082746289695562\n",
            "Epoch  17 / 20  -  train_rmse: 0.9074665475888145\n",
            "Epoch  18 / 20  -  train_rmse: 0.9067287377574003\n",
            "Epoch  19 / 20  -  train_rmse: 0.9060492068737908\n",
            "Epoch  20 / 20  -  train_rmse: 0.9054238176033335\n",
            "factor length: 20\n",
            "Epoch  1 / 20  -  train_rmse: 0.97709456416499\n",
            "Epoch  2 / 20  -  train_rmse: 0.9519328304558683\n",
            "Epoch  3 / 20  -  train_rmse: 0.9365283775320734\n",
            "Epoch  4 / 20  -  train_rmse: 0.9255197417578476\n",
            "Epoch  5 / 20  -  train_rmse: 0.9170286162167585\n",
            "Epoch  6 / 20  -  train_rmse: 0.9101412515449412\n",
            "Epoch  7 / 20  -  train_rmse: 0.9043653112714594\n",
            "Epoch  8 / 20  -  train_rmse: 0.8993846688109\n",
            "Epoch  9 / 20  -  train_rmse: 0.8950155087551245\n",
            "Epoch  10 / 20  -  train_rmse: 0.8911082112481903\n",
            "Epoch  11 / 20  -  train_rmse: 0.8875740027902975\n",
            "Epoch  12 / 20  -  train_rmse: 0.8843464139972248\n",
            "Epoch  13 / 20  -  train_rmse: 0.8813804262351761\n",
            "Epoch  14 / 20  -  train_rmse: 0.8786137170838191\n",
            "Epoch  15 / 20  -  train_rmse: 0.8760328370538512\n",
            "Epoch  16 / 20  -  train_rmse: 0.8736030341478868\n",
            "Epoch  17 / 20  -  train_rmse: 0.87131197305019\n",
            "Epoch  18 / 20  -  train_rmse: 0.8691442426361475\n",
            "Epoch  19 / 20  -  train_rmse: 0.8670756971564988\n",
            "Epoch  20 / 20  -  train_rmse: 0.8650982997367475\n",
            "Epoch  1 / 20  -  train_rmse: 0.9682329253517085\n",
            "Epoch  2 / 20  -  train_rmse: 0.9510749807626891\n",
            "Epoch  3 / 20  -  train_rmse: 0.9415847648535568\n",
            "Epoch  4 / 20  -  train_rmse: 0.9347578732422793\n",
            "Epoch  5 / 20  -  train_rmse: 0.9295195710523295\n",
            "Epoch  6 / 20  -  train_rmse: 0.9253703684684528\n",
            "Epoch  7 / 20  -  train_rmse: 0.921993720146182\n",
            "Epoch  8 / 20  -  train_rmse: 0.9192249280007809\n",
            "Epoch  9 / 20  -  train_rmse: 0.9168946961321123\n",
            "Epoch  10 / 20  -  train_rmse: 0.9149128730545704\n",
            "Epoch  11 / 20  -  train_rmse: 0.9131952281809631\n",
            "Epoch  12 / 20  -  train_rmse: 0.9116961398867518\n",
            "Epoch  13 / 20  -  train_rmse: 0.9103715108220384\n",
            "Epoch  14 / 20  -  train_rmse: 0.9091740374557821\n",
            "Epoch  15 / 20  -  train_rmse: 0.9080991048645345\n",
            "Epoch  16 / 20  -  train_rmse: 0.9071211254327017\n",
            "Epoch  17 / 20  -  train_rmse: 0.9062227960763027\n",
            "Epoch  18 / 20  -  train_rmse: 0.9053934293866012\n",
            "Epoch  19 / 20  -  train_rmse: 0.90462662620223\n",
            "Epoch  20 / 20  -  train_rmse: 0.9039099290670317\n",
            "factor length: 50\n",
            "Epoch  1 / 20  -  train_rmse: 0.97804410126616\n",
            "Epoch  2 / 20  -  train_rmse: 0.9523646738140268\n",
            "Epoch  3 / 20  -  train_rmse: 0.9365063048418734\n",
            "Epoch  4 / 20  -  train_rmse: 0.9249339537721187\n",
            "Epoch  5 / 20  -  train_rmse: 0.9159120538062071\n",
            "Epoch  6 / 20  -  train_rmse: 0.9085079278973432\n",
            "Epoch  7 / 20  -  train_rmse: 0.9022199350969823\n",
            "Epoch  8 / 20  -  train_rmse: 0.8967580668970337\n",
            "Epoch  9 / 20  -  train_rmse: 0.8918661910777786\n",
            "Epoch  10 / 20  -  train_rmse: 0.887480789000521\n",
            "Epoch  11 / 20  -  train_rmse: 0.8834520437343922\n",
            "Epoch  12 / 20  -  train_rmse: 0.8797351114786109\n",
            "Epoch  13 / 20  -  train_rmse: 0.8762700412001927\n",
            "Epoch  14 / 20  -  train_rmse: 0.8730209028389357\n",
            "Epoch  15 / 20  -  train_rmse: 0.8699495013633788\n",
            "Epoch  16 / 20  -  train_rmse: 0.8670328478976898\n",
            "Epoch  17 / 20  -  train_rmse: 0.8642521134682455\n",
            "Epoch  18 / 20  -  train_rmse: 0.8615803229969873\n",
            "Epoch  19 / 20  -  train_rmse: 0.8590080144693959\n",
            "Epoch  20 / 20  -  train_rmse: 0.8565216435529837\n",
            "Epoch  1 / 20  -  train_rmse: 0.9688222371631857\n",
            "Epoch  2 / 20  -  train_rmse: 0.9517620887047848\n",
            "Epoch  3 / 20  -  train_rmse: 0.941913544688561\n",
            "Epoch  4 / 20  -  train_rmse: 0.9348338836666047\n",
            "Epoch  5 / 20  -  train_rmse: 0.929337082810002\n",
            "Epoch  6 / 20  -  train_rmse: 0.9248864577260534\n",
            "Epoch  7 / 20  -  train_rmse: 0.921268605213235\n",
            "Epoch  8 / 20  -  train_rmse: 0.9182180189611682\n",
            "Epoch  9 / 20  -  train_rmse: 0.9156207242188936\n",
            "Epoch  10 / 20  -  train_rmse: 0.913371616686503\n",
            "Epoch  11 / 20  -  train_rmse: 0.9114033627582576\n",
            "Epoch  12 / 20  -  train_rmse: 0.909637893360927\n",
            "Epoch  13 / 20  -  train_rmse: 0.9080383298233377\n",
            "Epoch  14 / 20  -  train_rmse: 0.9065947481414385\n",
            "Epoch  15 / 20  -  train_rmse: 0.9052532404428236\n",
            "Epoch  16 / 20  -  train_rmse: 0.9040245023729373\n",
            "Epoch  17 / 20  -  train_rmse: 0.9028662020762374\n",
            "Epoch  18 / 20  -  train_rmse: 0.9017825517854747\n",
            "Epoch  19 / 20  -  train_rmse: 0.9007608984061543\n",
            "Epoch  20 / 20  -  train_rmse: 0.8997939372649876\n",
            "factor length: 100\n",
            "Epoch  1 / 20  -  train_rmse: 0.9793343927773567\n",
            "Epoch  2 / 20  -  train_rmse: 0.9529242902119823\n",
            "Epoch  3 / 20  -  train_rmse: 0.9361004562437979\n",
            "Epoch  4 / 20  -  train_rmse: 0.9237429844547849\n",
            "Epoch  5 / 20  -  train_rmse: 0.9138896015019208\n",
            "Epoch  6 / 20  -  train_rmse: 0.9056780406886986\n",
            "Epoch  7 / 20  -  train_rmse: 0.8985824308033193\n",
            "Epoch  8 / 20  -  train_rmse: 0.892311120432101\n",
            "Epoch  9 / 20  -  train_rmse: 0.8866431727792898\n",
            "Epoch  10 / 20  -  train_rmse: 0.8814591318376516\n",
            "Epoch  11 / 20  -  train_rmse: 0.8766563757414062\n",
            "Epoch  12 / 20  -  train_rmse: 0.872156518636857\n",
            "Epoch  13 / 20  -  train_rmse: 0.867919097909654\n",
            "Epoch  14 / 20  -  train_rmse: 0.8638869477253728\n",
            "Epoch  15 / 20  -  train_rmse: 0.8600247391390953\n",
            "Epoch  16 / 20  -  train_rmse: 0.8563228238048994\n",
            "Epoch  17 / 20  -  train_rmse: 0.8527424844632322\n",
            "Epoch  18 / 20  -  train_rmse: 0.8492772104474403\n",
            "Epoch  19 / 20  -  train_rmse: 0.8459054059105204\n",
            "Epoch  20 / 20  -  train_rmse: 0.8425998757466423\n",
            "Epoch  1 / 20  -  train_rmse: 0.9736864222697745\n",
            "Epoch  2 / 20  -  train_rmse: 0.9561721515052306\n",
            "Epoch  3 / 20  -  train_rmse: 0.9460997341944221\n",
            "Epoch  4 / 20  -  train_rmse: 0.9385747964747161\n",
            "Epoch  5 / 20  -  train_rmse: 0.932601390198355\n",
            "Epoch  6 / 20  -  train_rmse: 0.9276951899987916\n",
            "Epoch  7 / 20  -  train_rmse: 0.9235999204076923\n",
            "Epoch  8 / 20  -  train_rmse: 0.9201047533359354\n",
            "Epoch  9 / 20  -  train_rmse: 0.917033376050135\n",
            "Epoch  10 / 20  -  train_rmse: 0.9143347467719262\n",
            "Epoch  11 / 20  -  train_rmse: 0.9119097154996811\n",
            "Epoch  12 / 20  -  train_rmse: 0.9096994529059544\n",
            "Epoch  13 / 20  -  train_rmse: 0.9076520772816359\n",
            "Epoch  14 / 20  -  train_rmse: 0.9057604557486665\n",
            "Epoch  15 / 20  -  train_rmse: 0.9039896614265782\n",
            "Epoch  16 / 20  -  train_rmse: 0.9023257941406634\n",
            "Epoch  17 / 20  -  train_rmse: 0.9007416040254209\n",
            "Epoch  18 / 20  -  train_rmse: 0.8992323574877682\n",
            "Epoch  19 / 20  -  train_rmse: 0.8977925478541221\n",
            "Epoch  20 / 20  -  train_rmse: 0.8964030962459111\n",
            "factor length: 200\n",
            "Epoch  1 / 20  -  train_rmse: 0.9821932963047366\n",
            "Epoch  2 / 20  -  train_rmse: 0.9539182665251102\n",
            "Epoch  3 / 20  -  train_rmse: 0.9354100675612204\n",
            "Epoch  4 / 20  -  train_rmse: 0.9213447285792957\n",
            "Epoch  5 / 20  -  train_rmse: 0.90982348141276\n",
            "Epoch  6 / 20  -  train_rmse: 0.8999695241250563\n",
            "Epoch  7 / 20  -  train_rmse: 0.8912731839926094\n",
            "Epoch  8 / 20  -  train_rmse: 0.8834097554193038\n",
            "Epoch  9 / 20  -  train_rmse: 0.876202056344279\n",
            "Epoch  10 / 20  -  train_rmse: 0.8694536090090713\n",
            "Epoch  11 / 20  -  train_rmse: 0.8631101014514013\n",
            "Epoch  12 / 20  -  train_rmse: 0.8571035856183368\n",
            "Epoch  13 / 20  -  train_rmse: 0.8513367627964102\n",
            "Epoch  14 / 20  -  train_rmse: 0.8457966022380082\n",
            "Epoch  15 / 20  -  train_rmse: 0.8404426778922631\n",
            "Epoch  16 / 20  -  train_rmse: 0.8352333034431381\n",
            "Epoch  17 / 20  -  train_rmse: 0.8301500835793526\n",
            "Epoch  18 / 20  -  train_rmse: 0.8251744939022542\n",
            "Epoch  19 / 20  -  train_rmse: 0.82028916623349\n",
            "Epoch  20 / 20  -  train_rmse: 0.815481539837748\n",
            "Epoch  1 / 20  -  train_rmse: 0.9766043944475881\n",
            "Epoch  2 / 20  -  train_rmse: 0.9577423007600049\n",
            "Epoch  3 / 20  -  train_rmse: 0.9463933146309881\n",
            "Epoch  4 / 20  -  train_rmse: 0.937826501871499\n",
            "Epoch  5 / 20  -  train_rmse: 0.9308249203421921\n",
            "Epoch  6 / 20  -  train_rmse: 0.9249068668661384\n",
            "Epoch  7 / 20  -  train_rmse: 0.9198120989253421\n",
            "Epoch  8 / 20  -  train_rmse: 0.915327183265362\n",
            "Epoch  9 / 20  -  train_rmse: 0.9113041759571109\n",
            "Epoch  10 / 20  -  train_rmse: 0.9076426532278962\n",
            "Epoch  11 / 20  -  train_rmse: 0.9042722350983101\n",
            "Epoch  12 / 20  -  train_rmse: 0.9011330690560672\n",
            "Epoch  13 / 20  -  train_rmse: 0.8981627644808365\n",
            "Epoch  14 / 20  -  train_rmse: 0.8953577086254746\n",
            "Epoch  15 / 20  -  train_rmse: 0.8926879673888394\n",
            "Epoch  16 / 20  -  train_rmse: 0.8901301736825338\n",
            "Epoch  17 / 20  -  train_rmse: 0.8876662744493923\n",
            "Epoch  18 / 20  -  train_rmse: 0.8852889785098814\n",
            "Epoch  19 / 20  -  train_rmse: 0.8829811389164027\n",
            "Epoch  20 / 20  -  train_rmse: 0.8807439770199348\n",
            "factor length: 500\n",
            "Epoch  1 / 20  -  train_rmse: 0.9918708568699345\n",
            "Epoch  2 / 20  -  train_rmse: 0.9580977700819849\n",
            "Epoch  3 / 20  -  train_rmse: 0.9342328520100809\n",
            "Epoch  4 / 20  -  train_rmse: 0.9150289287817726\n",
            "Epoch  5 / 20  -  train_rmse: 0.8985311013923849\n",
            "Epoch  6 / 20  -  train_rmse: 0.8838470997934985\n",
            "Epoch  7 / 20  -  train_rmse: 0.8704157207164045\n",
            "Epoch  8 / 20  -  train_rmse: 0.8579381022144653\n",
            "Epoch  9 / 20  -  train_rmse: 0.8462037789543656\n",
            "Epoch  10 / 20  -  train_rmse: 0.8350465136662412\n",
            "Epoch  11 / 20  -  train_rmse: 0.8243695599631665\n",
            "Epoch  12 / 20  -  train_rmse: 0.8140750567885904\n",
            "Epoch  13 / 20  -  train_rmse: 0.8041109908903272\n",
            "Epoch  14 / 20  -  train_rmse: 0.79441951016369\n",
            "Epoch  15 / 20  -  train_rmse: 0.7849634371209211\n",
            "Epoch  16 / 20  -  train_rmse: 0.7757100442097451\n",
            "Epoch  17 / 20  -  train_rmse: 0.7666348964352686\n",
            "Epoch  18 / 20  -  train_rmse: 0.7577119991026305\n",
            "Epoch  19 / 20  -  train_rmse: 0.7488942010751589\n",
            "Epoch  20 / 20  -  train_rmse: 0.7402095587594225\n",
            "Epoch  1 / 20  -  train_rmse: 0.9909142359180999\n",
            "Epoch  2 / 20  -  train_rmse: 0.9696313608570706\n",
            "Epoch  3 / 20  -  train_rmse: 0.9556799933794277\n",
            "Epoch  4 / 20  -  train_rmse: 0.944450228985114\n",
            "Epoch  5 / 20  -  train_rmse: 0.9348455885948658\n",
            "Epoch  6 / 20  -  train_rmse: 0.9263365646596449\n",
            "Epoch  7 / 20  -  train_rmse: 0.9186488324695372\n",
            "Epoch  8 / 20  -  train_rmse: 0.9115859043815955\n",
            "Epoch  9 / 20  -  train_rmse: 0.905019399577204\n",
            "Epoch  10 / 20  -  train_rmse: 0.8988410952784188\n",
            "Epoch  11 / 20  -  train_rmse: 0.892968171708111\n",
            "Epoch  12 / 20  -  train_rmse: 0.8873550836594488\n",
            "Epoch  13 / 20  -  train_rmse: 0.8819570308445581\n",
            "Epoch  14 / 20  -  train_rmse: 0.8767556083639991\n",
            "Epoch  15 / 20  -  train_rmse: 0.8717041270650223\n",
            "Epoch  16 / 20  -  train_rmse: 0.8667950300157463\n",
            "Epoch  17 / 20  -  train_rmse: 0.8620121831385219\n",
            "Epoch  18 / 20  -  train_rmse: 0.8573323603099452\n",
            "Epoch  19 / 20  -  train_rmse: 0.8527683522269219\n",
            "Epoch  20 / 20  -  train_rmse: 0.8482972332195405\n"
          ]
        }
      ]
    },
    {
      "cell_type": "code",
      "source": [
        "rmse_test_result_vals"
      ],
      "metadata": {
        "colab": {
          "base_uri": "https://localhost:8080/"
        },
        "id": "lQ76shbMNg7i",
        "outputId": "d079c596-f1ca-4258-ad85-aa520fb51942"
      },
      "execution_count": 114,
      "outputs": [
        {
          "output_type": "execute_result",
          "data": {
            "text/plain": [
              "[0.9138534114494498,\n",
              " 0.9136608874498252,\n",
              " 0.9148397213356377,\n",
              " 0.9170967319041632,\n",
              " 0.916659163778959,\n",
              " 0.9229726649354555,\n",
              " 0.9383431159501079]"
            ]
          },
          "metadata": {},
          "execution_count": 114
        }
      ]
    },
    {
      "cell_type": "code",
      "source": [
        "factor_lens_str = ['5', '10', '20', '50', '100', '200', '500']\n",
        "plt.scatter(factor_lens_str, rmse_test_result_vals)\n",
        "\n",
        "plt.xlabel(\"Latent vector length\")\n",
        "plt.ylabel(\"Test RMSE Final\")\n",
        "plt.title(\"Final Test RMSE vs Latent Vector Length\")\n",
        "\n",
        "plt.show()"
      ],
      "metadata": {
        "colab": {
          "base_uri": "https://localhost:8080/",
          "height": 295
        },
        "id": "7cZ0qB-VNjkx",
        "outputId": "710f03d7-85df-4712-efc6-ac9c7e34014a"
      },
      "execution_count": 115,
      "outputs": [
        {
          "output_type": "display_data",
          "data": {
            "text/plain": [
              "<Figure size 432x288 with 1 Axes>"
            ],
            "image/png": "[encoded data removed]"
          },
          "metadata": {
            "needs_background": "light"
          }
        }
      ]
    },
    {
      "cell_type": "code",
      "source": [
        "colors = ['b', 'r', 'c', 'y', 'm', 'k', 'g']\n",
        "x = np.arange(1, 21)\n",
        "\n",
        "for i in range(exp_count):\n",
        "  plt.plot(x, rmse_train_result_vecs[i], '--bo', label = \"factor length: \" + str(factor_lens[i]),  color = colors[i])\n",
        "\n",
        "plt.xlabel(\"Epoch\")\n",
        "plt.ylabel(\"Train RMSE\")\n",
        "plt.title(\"Train RMSE vs Epoch\")\n",
        "plt.legend()\n",
        "plt.show()"
      ],
      "metadata": {
        "colab": {
          "base_uri": "https://localhost:8080/",
          "height": 295
        },
        "id": "m0Qj-fpfOG7S",
        "outputId": "4bdda2ea-a4a8-42e1-e48b-e34f3c54298e"
      },
      "execution_count": 118,
      "outputs": [
        {
          "output_type": "display_data",
          "data": {
            "text/plain": [
              "<Figure size 432x288 with 1 Axes>"
            ],
            "image/png": "[encoded data removed]"
          },
          "metadata": {
            "needs_background": "light"
          }
        }
      ]
    },
    {
      "cell_type": "code",
      "source": [
        "X = np.arange(1, 21)\n",
        "y = matrix_factorized.train_rmse \n",
        "plt.plot(X.astype('str'), y, '--bo')\n",
        "\n",
        "plt.xlabel(\"Epoch\")\n",
        "plt.ylabel(\"RMSE\")\n",
        "plt.title(\"Root Mean Square Error vs Epoch\")\n",
        "\n",
        "plt.show()"
      ],
      "metadata": {
        "id": "xCyoVkcDQLnJ"
      },
      "execution_count": null,
      "outputs": []
    }
  ]
}